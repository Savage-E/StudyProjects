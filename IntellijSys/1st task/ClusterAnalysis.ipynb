{
 "cells": [
  {
   "cell_type": "code",
   "execution_count": 45,
   "metadata": {},
   "outputs": [],
   "source": [
    "import numpy as np\n",
    "import pandas as pd\n",
    "import matplotlib.pyplot as plt\n",
    "from numpy import dtype, int64, float64\n",
    "from pandas import DataFrame, Int64Dtype\n",
    "from sklearn import preprocessing\n",
    "from sklearn.cluster import KMeans, AgglomerativeClustering\n",
    "from sklearn.manifold import MDS\n",
    "from sklearn.preprocessing import normalize, StandardScaler\n",
    "from sklearn.metrics import silhouette_score\n",
    "from kneed import KneeLocator\n",
    "from scipy.cluster.hierarchy import dendrogram, linkage\n",
    "import scipy.cluster.hierarchy as shc"
   ]
  },
  {
   "cell_type": "code",
   "execution_count": 46,
   "metadata": {},
   "outputs": [],
   "source": [
    "def сonvert_data(row: [str]) -> [int]:\n",
    "    row_unique_values = list(set(row))\n",
    "    mapping = {key: value for value, key in enumerate(row_unique_values)}\n",
    "\n",
    "    return list(map(lambda item: mapping[item], row))\n"
   ]
  },
  {
   "cell_type": "code",
   "execution_count": 47,
   "metadata": {},
   "outputs": [],
   "source": [
    "def optimize_csv(csv: DataFrame):\n",
    "    for column_alias in csv:\n",
    "        current_column = csv[column_alias]\n",
    "\n",
    "        if current_column.dtypes is np.dtype(object):\n",
    "            csv[column_alias] = normalize(np.array(сonvert_data(current_column))[:, np.newaxis], axis=0).ravel()\n",
    "\n",
    "        elif current_column.dtypes is np.dtype(int64) or current_column.dtypes is np.dtype(float64):\n",
    "            csv[column_alias] = normalize(np.array(current_column)[:, np.newaxis], axis=0).ravel()"
   ]
  },
  {
   "cell_type": "code",
   "execution_count": 48,
   "metadata": {},
   "outputs": [],
   "source": [
    "def plot_dendrogram(model, **kwargs):\n",
    "    \n",
    "    counts = np.zeros(model.children_.shape[0])\n",
    "    n_samples = len(model.labels_)\n",
    "    for i, merge in enumerate(model.children_):\n",
    "        current_count = 0\n",
    "        for child_idx in merge:\n",
    "            if child_idx < n_samples:\n",
    "                current_count += 1  # leaf node\n",
    "            else:\n",
    "                current_count += counts[child_idx - n_samples]\n",
    "        counts[i] = current_count\n",
    "\n",
    "    linkage_matrix = np.column_stack([model.children_, model.distances_,\n",
    "                                      counts]).astype(float)\n",
    "\n",
    "    dendrogram(linkage_matrix, **kwargs)"
   ]
  },
  {
   "cell_type": "code",
   "execution_count": 49,
   "metadata": {},
   "outputs": [],
   "source": [
    "pd.set_option('display.max_rows', 500)\n",
    "pd.set_option('display.max_columns', 500)\n",
    "pd.set_option('display.width', 1000)"
   ]
  },
  {
   "cell_type": "code",
   "execution_count": 50,
   "metadata": {},
   "outputs": [
    {
     "name": "stdout",
     "output_type": "stream",
     "text": [
      "          0     1      2      4      5     6       7   8      9     10      11    12    13\n",
      "0    0.00632  18.0   2.31  0.538  6.575  65.2  4.0900   1  296.0  15.3  396.90  4.98  24.0\n",
      "1    0.02731   0.0   7.07  0.469  6.421  78.9  4.9671   2  242.0  17.8  396.90  9.14  21.6\n",
      "2    0.02729   0.0   7.07  0.469  7.185  61.1  4.9671   2  242.0  17.8  392.83  4.03  34.7\n",
      "3    0.03237   0.0   2.18  0.458  6.998  45.8  6.0622   3  222.0  18.7  394.63  2.94  33.4\n",
      "4    0.06905   0.0   2.18  0.458  7.147  54.2  6.0622   3  222.0  18.7  396.90  5.33  36.2\n",
      "..       ...   ...    ...    ...    ...   ...     ...  ..    ...   ...     ...   ...   ...\n",
      "501  0.06263   0.0  11.93  0.573  6.593  69.1  2.4786   1  273.0  21.0  391.99  9.67  22.4\n",
      "502  0.04527   0.0  11.93  0.573  6.120  76.7  2.2875   1  273.0  21.0  396.90  9.08  20.6\n",
      "503  0.06076   0.0  11.93  0.573  6.976  91.0  2.1675   1  273.0  21.0  396.90  5.64  23.9\n",
      "504  0.10959   0.0  11.93  0.573  6.794  89.3  2.3889   1  273.0  21.0  393.45  6.48  22.0\n",
      "505  0.04741   0.0  11.93  0.573  6.030  80.8  2.5050   1  273.0  21.0  396.90  7.88  11.9\n",
      "\n",
      "[506 rows x 13 columns]\n"
     ]
    }
   ],
   "source": [
    "data = pd.read_csv('res/housing.data',header=None,sep='\\s+',\n",
    "                   usecols=[0,1,2,4,5,6,7,8,9,10,11,12,13] )\n",
    "print(data)\n",
    "\n",
    "data.columns = ['CRIM', 'ZN', 'INDUS','NOX', 'RM',\n",
    "        'AGE', 'DIS', 'RAD', 'TAX', 'PTRATIO','B',\n",
    "             'LSTAT', 'MEDV']\n"
   ]
  },
  {
   "cell_type": "code",
   "execution_count": 51,
   "metadata": {},
   "outputs": [
    {
     "data": {
      "text/html": [
       "<div>\n",
       "<style scoped>\n",
       "    .dataframe tbody tr th:only-of-type {\n",
       "        vertical-align: middle;\n",
       "    }\n",
       "\n",
       "    .dataframe tbody tr th {\n",
       "        vertical-align: top;\n",
       "    }\n",
       "\n",
       "    .dataframe thead th {\n",
       "        text-align: right;\n",
       "    }\n",
       "</style>\n",
       "<table border=\"1\" class=\"dataframe\">\n",
       "  <thead>\n",
       "    <tr style=\"text-align: right;\">\n",
       "      <th></th>\n",
       "      <th>CRIM</th>\n",
       "      <th>ZN</th>\n",
       "      <th>INDUS</th>\n",
       "      <th>NOX</th>\n",
       "      <th>RM</th>\n",
       "      <th>AGE</th>\n",
       "      <th>DIS</th>\n",
       "      <th>RAD</th>\n",
       "      <th>TAX</th>\n",
       "      <th>PTRATIO</th>\n",
       "      <th>B</th>\n",
       "      <th>LSTAT</th>\n",
       "      <th>MEDV</th>\n",
       "    </tr>\n",
       "  </thead>\n",
       "  <tbody>\n",
       "    <tr>\n",
       "      <th>0</th>\n",
       "      <td>0.00632</td>\n",
       "      <td>18.0</td>\n",
       "      <td>2.31</td>\n",
       "      <td>0.538</td>\n",
       "      <td>6.575</td>\n",
       "      <td>65.2</td>\n",
       "      <td>4.0900</td>\n",
       "      <td>1</td>\n",
       "      <td>296.0</td>\n",
       "      <td>15.3</td>\n",
       "      <td>396.90</td>\n",
       "      <td>4.98</td>\n",
       "      <td>24.0</td>\n",
       "    </tr>\n",
       "    <tr>\n",
       "      <th>1</th>\n",
       "      <td>0.02731</td>\n",
       "      <td>0.0</td>\n",
       "      <td>7.07</td>\n",
       "      <td>0.469</td>\n",
       "      <td>6.421</td>\n",
       "      <td>78.9</td>\n",
       "      <td>4.9671</td>\n",
       "      <td>2</td>\n",
       "      <td>242.0</td>\n",
       "      <td>17.8</td>\n",
       "      <td>396.90</td>\n",
       "      <td>9.14</td>\n",
       "      <td>21.6</td>\n",
       "    </tr>\n",
       "    <tr>\n",
       "      <th>2</th>\n",
       "      <td>0.02729</td>\n",
       "      <td>0.0</td>\n",
       "      <td>7.07</td>\n",
       "      <td>0.469</td>\n",
       "      <td>7.185</td>\n",
       "      <td>61.1</td>\n",
       "      <td>4.9671</td>\n",
       "      <td>2</td>\n",
       "      <td>242.0</td>\n",
       "      <td>17.8</td>\n",
       "      <td>392.83</td>\n",
       "      <td>4.03</td>\n",
       "      <td>34.7</td>\n",
       "    </tr>\n",
       "    <tr>\n",
       "      <th>3</th>\n",
       "      <td>0.03237</td>\n",
       "      <td>0.0</td>\n",
       "      <td>2.18</td>\n",
       "      <td>0.458</td>\n",
       "      <td>6.998</td>\n",
       "      <td>45.8</td>\n",
       "      <td>6.0622</td>\n",
       "      <td>3</td>\n",
       "      <td>222.0</td>\n",
       "      <td>18.7</td>\n",
       "      <td>394.63</td>\n",
       "      <td>2.94</td>\n",
       "      <td>33.4</td>\n",
       "    </tr>\n",
       "    <tr>\n",
       "      <th>4</th>\n",
       "      <td>0.06905</td>\n",
       "      <td>0.0</td>\n",
       "      <td>2.18</td>\n",
       "      <td>0.458</td>\n",
       "      <td>7.147</td>\n",
       "      <td>54.2</td>\n",
       "      <td>6.0622</td>\n",
       "      <td>3</td>\n",
       "      <td>222.0</td>\n",
       "      <td>18.7</td>\n",
       "      <td>396.90</td>\n",
       "      <td>5.33</td>\n",
       "      <td>36.2</td>\n",
       "    </tr>\n",
       "    <tr>\n",
       "      <th>...</th>\n",
       "      <td>...</td>\n",
       "      <td>...</td>\n",
       "      <td>...</td>\n",
       "      <td>...</td>\n",
       "      <td>...</td>\n",
       "      <td>...</td>\n",
       "      <td>...</td>\n",
       "      <td>...</td>\n",
       "      <td>...</td>\n",
       "      <td>...</td>\n",
       "      <td>...</td>\n",
       "      <td>...</td>\n",
       "      <td>...</td>\n",
       "    </tr>\n",
       "    <tr>\n",
       "      <th>501</th>\n",
       "      <td>0.06263</td>\n",
       "      <td>0.0</td>\n",
       "      <td>11.93</td>\n",
       "      <td>0.573</td>\n",
       "      <td>6.593</td>\n",
       "      <td>69.1</td>\n",
       "      <td>2.4786</td>\n",
       "      <td>1</td>\n",
       "      <td>273.0</td>\n",
       "      <td>21.0</td>\n",
       "      <td>391.99</td>\n",
       "      <td>9.67</td>\n",
       "      <td>22.4</td>\n",
       "    </tr>\n",
       "    <tr>\n",
       "      <th>502</th>\n",
       "      <td>0.04527</td>\n",
       "      <td>0.0</td>\n",
       "      <td>11.93</td>\n",
       "      <td>0.573</td>\n",
       "      <td>6.120</td>\n",
       "      <td>76.7</td>\n",
       "      <td>2.2875</td>\n",
       "      <td>1</td>\n",
       "      <td>273.0</td>\n",
       "      <td>21.0</td>\n",
       "      <td>396.90</td>\n",
       "      <td>9.08</td>\n",
       "      <td>20.6</td>\n",
       "    </tr>\n",
       "    <tr>\n",
       "      <th>503</th>\n",
       "      <td>0.06076</td>\n",
       "      <td>0.0</td>\n",
       "      <td>11.93</td>\n",
       "      <td>0.573</td>\n",
       "      <td>6.976</td>\n",
       "      <td>91.0</td>\n",
       "      <td>2.1675</td>\n",
       "      <td>1</td>\n",
       "      <td>273.0</td>\n",
       "      <td>21.0</td>\n",
       "      <td>396.90</td>\n",
       "      <td>5.64</td>\n",
       "      <td>23.9</td>\n",
       "    </tr>\n",
       "    <tr>\n",
       "      <th>504</th>\n",
       "      <td>0.10959</td>\n",
       "      <td>0.0</td>\n",
       "      <td>11.93</td>\n",
       "      <td>0.573</td>\n",
       "      <td>6.794</td>\n",
       "      <td>89.3</td>\n",
       "      <td>2.3889</td>\n",
       "      <td>1</td>\n",
       "      <td>273.0</td>\n",
       "      <td>21.0</td>\n",
       "      <td>393.45</td>\n",
       "      <td>6.48</td>\n",
       "      <td>22.0</td>\n",
       "    </tr>\n",
       "    <tr>\n",
       "      <th>505</th>\n",
       "      <td>0.04741</td>\n",
       "      <td>0.0</td>\n",
       "      <td>11.93</td>\n",
       "      <td>0.573</td>\n",
       "      <td>6.030</td>\n",
       "      <td>80.8</td>\n",
       "      <td>2.5050</td>\n",
       "      <td>1</td>\n",
       "      <td>273.0</td>\n",
       "      <td>21.0</td>\n",
       "      <td>396.90</td>\n",
       "      <td>7.88</td>\n",
       "      <td>11.9</td>\n",
       "    </tr>\n",
       "  </tbody>\n",
       "</table>\n",
       "<p>506 rows × 13 columns</p>\n",
       "</div>"
      ],
      "text/plain": [
       "        CRIM    ZN  INDUS    NOX     RM   AGE     DIS  RAD    TAX  PTRATIO       B  LSTAT  MEDV\n",
       "0    0.00632  18.0   2.31  0.538  6.575  65.2  4.0900    1  296.0     15.3  396.90   4.98  24.0\n",
       "1    0.02731   0.0   7.07  0.469  6.421  78.9  4.9671    2  242.0     17.8  396.90   9.14  21.6\n",
       "2    0.02729   0.0   7.07  0.469  7.185  61.1  4.9671    2  242.0     17.8  392.83   4.03  34.7\n",
       "3    0.03237   0.0   2.18  0.458  6.998  45.8  6.0622    3  222.0     18.7  394.63   2.94  33.4\n",
       "4    0.06905   0.0   2.18  0.458  7.147  54.2  6.0622    3  222.0     18.7  396.90   5.33  36.2\n",
       "..       ...   ...    ...    ...    ...   ...     ...  ...    ...      ...     ...    ...   ...\n",
       "501  0.06263   0.0  11.93  0.573  6.593  69.1  2.4786    1  273.0     21.0  391.99   9.67  22.4\n",
       "502  0.04527   0.0  11.93  0.573  6.120  76.7  2.2875    1  273.0     21.0  396.90   9.08  20.6\n",
       "503  0.06076   0.0  11.93  0.573  6.976  91.0  2.1675    1  273.0     21.0  396.90   5.64  23.9\n",
       "504  0.10959   0.0  11.93  0.573  6.794  89.3  2.3889    1  273.0     21.0  393.45   6.48  22.0\n",
       "505  0.04741   0.0  11.93  0.573  6.030  80.8  2.5050    1  273.0     21.0  396.90   7.88  11.9\n",
       "\n",
       "[506 rows x 13 columns]"
      ]
     },
     "execution_count": 51,
     "metadata": {},
     "output_type": "execute_result"
    }
   ],
   "source": [
    "data"
   ]
  },
  {
   "cell_type": "code",
   "execution_count": 52,
   "metadata": {},
   "outputs": [
    {
     "name": "stdout",
     "output_type": "stream",
     "text": [
      "         CRIM        ZN     INDUS       NOX        RM       AGE       DIS       RAD       TAX   PTRATIO         B     LSTAT      MEDV\n",
      "0    0.000030  0.030868  0.007853  0.042208  0.046222  0.039107  0.041904  0.003442  0.029798  0.036604  0.047927  0.015241  0.043845\n",
      "1    0.000130  0.000000  0.024035  0.036795  0.045139  0.047324  0.050890  0.006883  0.024362  0.042585  0.047927  0.027973  0.039461\n",
      "2    0.000130  0.000000  0.024035  0.036795  0.050510  0.036648  0.050890  0.006883  0.024362  0.042585  0.047436  0.012334  0.063393\n",
      "3    0.000154  0.000000  0.007411  0.035932  0.049196  0.027471  0.062109  0.010325  0.022349  0.044738  0.047653  0.008998  0.061018\n",
      "4    0.000329  0.000000  0.007411  0.035932  0.050243  0.032509  0.062109  0.010325  0.022349  0.044738  0.047927  0.016312  0.066133\n",
      "..        ...       ...       ...       ...       ...       ...       ...       ...       ...       ...       ...       ...       ...\n",
      "501  0.000299  0.000000  0.040557  0.044954  0.046349  0.041446  0.025394  0.003442  0.027483  0.050241  0.047334  0.029595  0.040922\n",
      "502  0.000216  0.000000  0.040557  0.044954  0.043023  0.046005  0.023436  0.003442  0.027483  0.050241  0.047927  0.027789  0.037634\n",
      "503  0.000290  0.000000  0.040557  0.044954  0.049041  0.054582  0.022207  0.003442  0.027483  0.050241  0.047927  0.017261  0.043662\n",
      "504  0.000523  0.000000  0.040557  0.044954  0.047762  0.053562  0.024475  0.003442  0.027483  0.050241  0.047510  0.019832  0.040191\n",
      "505  0.000226  0.000000  0.040557  0.044954  0.042391  0.048464  0.025665  0.003442  0.027483  0.050241  0.047927  0.024117  0.021740\n",
      "\n",
      "[506 rows x 13 columns]\n"
     ]
    }
   ],
   "source": [
    "optimize_csv(data)\n",
    "print(data)"
   ]
  },
  {
   "cell_type": "code",
   "execution_count": 53,
   "metadata": {},
   "outputs": [
    {
     "data": {
      "text/html": [
       "<div>\n",
       "<style scoped>\n",
       "    .dataframe tbody tr th:only-of-type {\n",
       "        vertical-align: middle;\n",
       "    }\n",
       "\n",
       "    .dataframe tbody tr th {\n",
       "        vertical-align: top;\n",
       "    }\n",
       "\n",
       "    .dataframe thead th {\n",
       "        text-align: right;\n",
       "    }\n",
       "</style>\n",
       "<table border=\"1\" class=\"dataframe\">\n",
       "  <thead>\n",
       "    <tr style=\"text-align: right;\">\n",
       "      <th></th>\n",
       "      <th>CRIM</th>\n",
       "      <th>ZN</th>\n",
       "      <th>INDUS</th>\n",
       "      <th>NOX</th>\n",
       "      <th>RM</th>\n",
       "      <th>AGE</th>\n",
       "      <th>DIS</th>\n",
       "      <th>RAD</th>\n",
       "      <th>TAX</th>\n",
       "      <th>PTRATIO</th>\n",
       "      <th>B</th>\n",
       "      <th>LSTAT</th>\n",
       "      <th>MEDV</th>\n",
       "    </tr>\n",
       "  </thead>\n",
       "  <tbody>\n",
       "    <tr>\n",
       "      <th>0</th>\n",
       "      <td>0.000030</td>\n",
       "      <td>0.030868</td>\n",
       "      <td>0.007853</td>\n",
       "      <td>0.042208</td>\n",
       "      <td>0.046222</td>\n",
       "      <td>0.039107</td>\n",
       "      <td>0.041904</td>\n",
       "      <td>0.003442</td>\n",
       "      <td>0.029798</td>\n",
       "      <td>0.036604</td>\n",
       "      <td>0.047927</td>\n",
       "      <td>0.015241</td>\n",
       "      <td>0.043845</td>\n",
       "    </tr>\n",
       "    <tr>\n",
       "      <th>1</th>\n",
       "      <td>0.000130</td>\n",
       "      <td>0.000000</td>\n",
       "      <td>0.024035</td>\n",
       "      <td>0.036795</td>\n",
       "      <td>0.045139</td>\n",
       "      <td>0.047324</td>\n",
       "      <td>0.050890</td>\n",
       "      <td>0.006883</td>\n",
       "      <td>0.024362</td>\n",
       "      <td>0.042585</td>\n",
       "      <td>0.047927</td>\n",
       "      <td>0.027973</td>\n",
       "      <td>0.039461</td>\n",
       "    </tr>\n",
       "    <tr>\n",
       "      <th>2</th>\n",
       "      <td>0.000130</td>\n",
       "      <td>0.000000</td>\n",
       "      <td>0.024035</td>\n",
       "      <td>0.036795</td>\n",
       "      <td>0.050510</td>\n",
       "      <td>0.036648</td>\n",
       "      <td>0.050890</td>\n",
       "      <td>0.006883</td>\n",
       "      <td>0.024362</td>\n",
       "      <td>0.042585</td>\n",
       "      <td>0.047436</td>\n",
       "      <td>0.012334</td>\n",
       "      <td>0.063393</td>\n",
       "    </tr>\n",
       "    <tr>\n",
       "      <th>3</th>\n",
       "      <td>0.000154</td>\n",
       "      <td>0.000000</td>\n",
       "      <td>0.007411</td>\n",
       "      <td>0.035932</td>\n",
       "      <td>0.049196</td>\n",
       "      <td>0.027471</td>\n",
       "      <td>0.062109</td>\n",
       "      <td>0.010325</td>\n",
       "      <td>0.022349</td>\n",
       "      <td>0.044738</td>\n",
       "      <td>0.047653</td>\n",
       "      <td>0.008998</td>\n",
       "      <td>0.061018</td>\n",
       "    </tr>\n",
       "    <tr>\n",
       "      <th>4</th>\n",
       "      <td>0.000329</td>\n",
       "      <td>0.000000</td>\n",
       "      <td>0.007411</td>\n",
       "      <td>0.035932</td>\n",
       "      <td>0.050243</td>\n",
       "      <td>0.032509</td>\n",
       "      <td>0.062109</td>\n",
       "      <td>0.010325</td>\n",
       "      <td>0.022349</td>\n",
       "      <td>0.044738</td>\n",
       "      <td>0.047927</td>\n",
       "      <td>0.016312</td>\n",
       "      <td>0.066133</td>\n",
       "    </tr>\n",
       "    <tr>\n",
       "      <th>...</th>\n",
       "      <td>...</td>\n",
       "      <td>...</td>\n",
       "      <td>...</td>\n",
       "      <td>...</td>\n",
       "      <td>...</td>\n",
       "      <td>...</td>\n",
       "      <td>...</td>\n",
       "      <td>...</td>\n",
       "      <td>...</td>\n",
       "      <td>...</td>\n",
       "      <td>...</td>\n",
       "      <td>...</td>\n",
       "      <td>...</td>\n",
       "    </tr>\n",
       "    <tr>\n",
       "      <th>501</th>\n",
       "      <td>0.000299</td>\n",
       "      <td>0.000000</td>\n",
       "      <td>0.040557</td>\n",
       "      <td>0.044954</td>\n",
       "      <td>0.046349</td>\n",
       "      <td>0.041446</td>\n",
       "      <td>0.025394</td>\n",
       "      <td>0.003442</td>\n",
       "      <td>0.027483</td>\n",
       "      <td>0.050241</td>\n",
       "      <td>0.047334</td>\n",
       "      <td>0.029595</td>\n",
       "      <td>0.040922</td>\n",
       "    </tr>\n",
       "    <tr>\n",
       "      <th>502</th>\n",
       "      <td>0.000216</td>\n",
       "      <td>0.000000</td>\n",
       "      <td>0.040557</td>\n",
       "      <td>0.044954</td>\n",
       "      <td>0.043023</td>\n",
       "      <td>0.046005</td>\n",
       "      <td>0.023436</td>\n",
       "      <td>0.003442</td>\n",
       "      <td>0.027483</td>\n",
       "      <td>0.050241</td>\n",
       "      <td>0.047927</td>\n",
       "      <td>0.027789</td>\n",
       "      <td>0.037634</td>\n",
       "    </tr>\n",
       "    <tr>\n",
       "      <th>503</th>\n",
       "      <td>0.000290</td>\n",
       "      <td>0.000000</td>\n",
       "      <td>0.040557</td>\n",
       "      <td>0.044954</td>\n",
       "      <td>0.049041</td>\n",
       "      <td>0.054582</td>\n",
       "      <td>0.022207</td>\n",
       "      <td>0.003442</td>\n",
       "      <td>0.027483</td>\n",
       "      <td>0.050241</td>\n",
       "      <td>0.047927</td>\n",
       "      <td>0.017261</td>\n",
       "      <td>0.043662</td>\n",
       "    </tr>\n",
       "    <tr>\n",
       "      <th>504</th>\n",
       "      <td>0.000523</td>\n",
       "      <td>0.000000</td>\n",
       "      <td>0.040557</td>\n",
       "      <td>0.044954</td>\n",
       "      <td>0.047762</td>\n",
       "      <td>0.053562</td>\n",
       "      <td>0.024475</td>\n",
       "      <td>0.003442</td>\n",
       "      <td>0.027483</td>\n",
       "      <td>0.050241</td>\n",
       "      <td>0.047510</td>\n",
       "      <td>0.019832</td>\n",
       "      <td>0.040191</td>\n",
       "    </tr>\n",
       "    <tr>\n",
       "      <th>505</th>\n",
       "      <td>0.000226</td>\n",
       "      <td>0.000000</td>\n",
       "      <td>0.040557</td>\n",
       "      <td>0.044954</td>\n",
       "      <td>0.042391</td>\n",
       "      <td>0.048464</td>\n",
       "      <td>0.025665</td>\n",
       "      <td>0.003442</td>\n",
       "      <td>0.027483</td>\n",
       "      <td>0.050241</td>\n",
       "      <td>0.047927</td>\n",
       "      <td>0.024117</td>\n",
       "      <td>0.021740</td>\n",
       "    </tr>\n",
       "  </tbody>\n",
       "</table>\n",
       "<p>506 rows × 13 columns</p>\n",
       "</div>"
      ],
      "text/plain": [
       "         CRIM        ZN     INDUS       NOX        RM       AGE       DIS       RAD       TAX   PTRATIO         B     LSTAT      MEDV\n",
       "0    0.000030  0.030868  0.007853  0.042208  0.046222  0.039107  0.041904  0.003442  0.029798  0.036604  0.047927  0.015241  0.043845\n",
       "1    0.000130  0.000000  0.024035  0.036795  0.045139  0.047324  0.050890  0.006883  0.024362  0.042585  0.047927  0.027973  0.039461\n",
       "2    0.000130  0.000000  0.024035  0.036795  0.050510  0.036648  0.050890  0.006883  0.024362  0.042585  0.047436  0.012334  0.063393\n",
       "3    0.000154  0.000000  0.007411  0.035932  0.049196  0.027471  0.062109  0.010325  0.022349  0.044738  0.047653  0.008998  0.061018\n",
       "4    0.000329  0.000000  0.007411  0.035932  0.050243  0.032509  0.062109  0.010325  0.022349  0.044738  0.047927  0.016312  0.066133\n",
       "..        ...       ...       ...       ...       ...       ...       ...       ...       ...       ...       ...       ...       ...\n",
       "501  0.000299  0.000000  0.040557  0.044954  0.046349  0.041446  0.025394  0.003442  0.027483  0.050241  0.047334  0.029595  0.040922\n",
       "502  0.000216  0.000000  0.040557  0.044954  0.043023  0.046005  0.023436  0.003442  0.027483  0.050241  0.047927  0.027789  0.037634\n",
       "503  0.000290  0.000000  0.040557  0.044954  0.049041  0.054582  0.022207  0.003442  0.027483  0.050241  0.047927  0.017261  0.043662\n",
       "504  0.000523  0.000000  0.040557  0.044954  0.047762  0.053562  0.024475  0.003442  0.027483  0.050241  0.047510  0.019832  0.040191\n",
       "505  0.000226  0.000000  0.040557  0.044954  0.042391  0.048464  0.025665  0.003442  0.027483  0.050241  0.047927  0.024117  0.021740\n",
       "\n",
       "[506 rows x 13 columns]"
      ]
     },
     "execution_count": 53,
     "metadata": {},
     "output_type": "execute_result"
    }
   ],
   "source": [
    "data"
   ]
  },
  {
   "cell_type": "code",
   "execution_count": 54,
   "metadata": {},
   "outputs": [],
   "source": [
    "k_means = KMeans()\n",
    "k_means.fit(data)\n",
    "k_means.inertia_\n",
    "\n",
    "label = k_means.fit_predict(data)\n",
    "\n",
    "u_labels = np.unique(label)\n",
    "\n",
    "\n",
    " \n"
   ]
  },
  {
   "cell_type": "code",
   "execution_count": 55,
   "metadata": {},
   "outputs": [
    {
     "data": {
      "text/plain": [
       "<matplotlib.collections.PathCollection at 0x16191301e20>"
      ]
     },
     "execution_count": 55,
     "metadata": {},
     "output_type": "execute_result"
    },
    {
     "data": {
      "image/png": "[encoded data removed]",
      "text/plain": [
       "<Figure size 432x288 with 1 Axes>"
      ]
     },
     "metadata": {},
     "output_type": "display_data"
    }
   ],
   "source": [
    "embedding = MDS(n_components=2)\n",
    "x = embedding.fit_transform(k_means.cluster_centers_)\n",
    "plt.scatter(x[:, 0], x[:, 1])"
   ]
  },
  {
   "cell_type": "code",
   "execution_count": 56,
   "metadata": {},
   "outputs": [],
   "source": [
    "sse = []\n",
    "for k in range(1, 11):\n",
    "    kmeans = KMeans(n_clusters=k)\n",
    "    kmeans.fit(data)\n",
    "    sse.append(kmeans.inertia_)"
   ]
  },
  {
   "cell_type": "code",
   "execution_count": 57,
   "metadata": {},
   "outputs": [
    {
     "data": {
      "image/png": "[encoded data removed]",
      "text/plain": [
       "<Figure size 432x288 with 1 Axes>"
      ]
     },
     "metadata": {},
     "output_type": "display_data"
    }
   ],
   "source": [
    "plt.style.use(\"fivethirtyeight\")\n",
    "plt.plot(range(1, 11), sse)\n",
    "plt.xticks(range(1, 11))\n",
    "plt.xlabel(\"Number of Clusters\")\n",
    "plt.ylabel(\"SSE\")\n",
    "plt.show()"
   ]
  },
  {
   "cell_type": "code",
   "execution_count": 58,
   "metadata": {},
   "outputs": [
    {
     "name": "stdout",
     "output_type": "stream",
     "text": [
      "Using auto-detecation for elbow method below, kl is = 4\n"
     ]
    }
   ],
   "source": [
    "kl = KneeLocator(range(1, 11), sse, curve=\"convex\", direction=\"decreasing\")\n",
    "print(\"Using auto-detecation for elbow method below, kl is =\", kl.elbow)"
   ]
  },
  {
   "cell_type": "code",
   "execution_count": 59,
   "metadata": {},
   "outputs": [],
   "source": [
    "# A list holds the silhouette coefficients for each k\n",
    "silhouette_coefficients = []\n",
    "\n",
    "# Notice you start at 2 clusters for silhouette coefficient\n",
    "for k in range(2, 11):\n",
    "    kmeans = KMeans(n_clusters=k)\n",
    "    kmeans.fit(data)\n",
    "    score = silhouette_score(data, kmeans.labels_)\n",
    "    silhouette_coefficients.append(score)"
   ]
  },
  {
   "cell_type": "code",
   "execution_count": 60,
   "metadata": {},
   "outputs": [
    {
     "data": {
      "image/png": "[encoded data removed]",
      "text/plain": [
       "<Figure size 432x288 with 1 Axes>"
      ]
     },
     "metadata": {},
     "output_type": "display_data"
    }
   ],
   "source": [
    "plt.style.use(\"fivethirtyeight\")\n",
    "plt.plot(range(2, 11), silhouette_coefficients)\n",
    "plt.xticks(range(2, 11))\n",
    "plt.xlabel(\"Number of Clusters\")\n",
    "plt.ylabel(\"Silhouette Coefficient\")\n",
    "plt.show()"
   ]
  },
  {
   "cell_type": "code",
   "execution_count": 61,
   "metadata": {},
   "outputs": [
    {
     "data": {
      "text/plain": [
       "1.080584266419543"
      ]
     },
     "execution_count": 61,
     "metadata": {},
     "output_type": "execute_result"
    }
   ],
   "source": [
    "k_means = KMeans(n_clusters=4, random_state=0) # clear inner k nearest neighbors clustering (k=4)\n",
    "k_means.fit(data)\n",
    "k_means.inertia_"
   ]
  },
  {
   "cell_type": "code",
   "execution_count": 62,
   "metadata": {},
   "outputs": [
    {
     "data": {
      "text/plain": [
       "<matplotlib.collections.PathCollection at 0x16193771d60>"
      ]
     },
     "execution_count": 62,
     "metadata": {},
     "output_type": "execute_result"
    },
    {
     "data": {
      "image/png": "[encoded data removed]",
      "text/plain": [
       "<Figure size 432x288 with 1 Axes>"
      ]
     },
     "metadata": {},
     "output_type": "display_data"
    }
   ],
   "source": [
    "embedding = MDS(n_components=2)\n",
    "x = embedding.fit_transform(k_means.cluster_centers_)\n",
    "plt.scatter(x[:, 0], x[:, 1])"
   ]
  },
  {
   "cell_type": "code",
   "execution_count": 63,
   "metadata": {
    "pycharm": {
     "name": "#%%\n"
    }
   },
   "outputs": [
    {
     "data": {
      "image/png": "[encoded data removed]",
      "text/plain": [
       "<Figure size 432x288 with 1 Axes>"
      ]
     },
     "metadata": {},
     "output_type": "display_data"
    }
   ],
   "source": [
    "model = AgglomerativeClustering(distance_threshold=0, n_clusters=None)\n",
    "model = model.fit(data)\n",
    "plot_dendrogram(model, truncate_mode='level', p=3)\n"
   ]
  },
  {
   "cell_type": "code",
   "execution_count": null,
   "metadata": {},
   "outputs": [],
   "source": []
  }
 ],
 "metadata": {
  "kernelspec": {
   "display_name": "Python 3",
   "language": "python",
   "name": "python3"
  },
  "language_info": {
   "codemirror_mode": {
    "name": "ipython",
    "version": 3
   },
   "file_extension": ".py",
   "mimetype": "text/x-python",
   "name": "python",
   "nbconvert_exporter": "python",
   "pygments_lexer": "ipython3",
   "version": "3.8.5"
  }
 },
 "nbformat": 4,
 "nbformat_minor": 5
}
